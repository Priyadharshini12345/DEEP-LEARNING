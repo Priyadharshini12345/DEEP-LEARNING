{
 "cells": [
  {
   "cell_type": "code",
   "execution_count": 1,
   "id": "f7c1c379",
   "metadata": {},
   "outputs": [
    {
     "name": "stdout",
     "output_type": "stream",
     "text": [
      "D:\\PRASHANTH\\CEG\\SEM VI\\Machine Learning\n"
     ]
    }
   ],
   "source": [
    "cd \"D:\\PRASHANTH\\CEG\\SEM VI\\Machine Learning\""
   ]
  },
  {
   "cell_type": "code",
   "execution_count": 29,
   "id": "570f2141",
   "metadata": {},
   "outputs": [
    {
     "name": "stdout",
     "output_type": "stream",
     "text": [
      "D:\\PRASHANTH\\CEG\\SEM VI\\Machine Learning\n"
     ]
    }
   ],
   "source": [
    "cd .."
   ]
  },
  {
   "cell_type": "code",
   "execution_count": 2,
   "id": "61421599",
   "metadata": {},
   "outputs": [],
   "source": [
    "import pandas as pd\n",
    "import numpy as np\n",
    "import matplotlib.pyplot as plt\n",
    "import seaborn as sns\n",
    "import nltk"
   ]
  },
  {
   "cell_type": "code",
   "execution_count": 5,
   "id": "2ba0379a",
   "metadata": {},
   "outputs": [
    {
     "data": {
      "text/html": [
       "<div>\n",
       "<style scoped>\n",
       "    .dataframe tbody tr th:only-of-type {\n",
       "        vertical-align: middle;\n",
       "    }\n",
       "\n",
       "    .dataframe tbody tr th {\n",
       "        vertical-align: top;\n",
       "    }\n",
       "\n",
       "    .dataframe thead th {\n",
       "        text-align: right;\n",
       "    }\n",
       "</style>\n",
       "<table border=\"1\" class=\"dataframe\">\n",
       "  <thead>\n",
       "    <tr style=\"text-align: right;\">\n",
       "      <th></th>\n",
       "      <th>sentiment</th>\n",
       "      <th>ids</th>\n",
       "      <th>date</th>\n",
       "      <th>flag</th>\n",
       "      <th>user</th>\n",
       "      <th>text</th>\n",
       "    </tr>\n",
       "  </thead>\n",
       "  <tbody>\n",
       "    <tr>\n",
       "      <th>0</th>\n",
       "      <td>0</td>\n",
       "      <td>1467810369</td>\n",
       "      <td>Mon Apr 06 22:19:45 PDT 2009</td>\n",
       "      <td>NO_QUERY</td>\n",
       "      <td>_TheSpecialOne_</td>\n",
       "      <td>@switchfoot http://twitpic.com/2y1zl - Awww, t...</td>\n",
       "    </tr>\n",
       "    <tr>\n",
       "      <th>1</th>\n",
       "      <td>0</td>\n",
       "      <td>1467810672</td>\n",
       "      <td>Mon Apr 06 22:19:49 PDT 2009</td>\n",
       "      <td>NO_QUERY</td>\n",
       "      <td>scotthamilton</td>\n",
       "      <td>is upset that he can't update his Facebook by ...</td>\n",
       "    </tr>\n",
       "    <tr>\n",
       "      <th>2</th>\n",
       "      <td>0</td>\n",
       "      <td>1467810917</td>\n",
       "      <td>Mon Apr 06 22:19:53 PDT 2009</td>\n",
       "      <td>NO_QUERY</td>\n",
       "      <td>mattycus</td>\n",
       "      <td>@Kenichan I dived many times for the ball. Man...</td>\n",
       "    </tr>\n",
       "    <tr>\n",
       "      <th>3</th>\n",
       "      <td>0</td>\n",
       "      <td>1467811184</td>\n",
       "      <td>Mon Apr 06 22:19:57 PDT 2009</td>\n",
       "      <td>NO_QUERY</td>\n",
       "      <td>ElleCTF</td>\n",
       "      <td>my whole body feels itchy and like its on fire</td>\n",
       "    </tr>\n",
       "    <tr>\n",
       "      <th>4</th>\n",
       "      <td>0</td>\n",
       "      <td>1467811193</td>\n",
       "      <td>Mon Apr 06 22:19:57 PDT 2009</td>\n",
       "      <td>NO_QUERY</td>\n",
       "      <td>Karoli</td>\n",
       "      <td>@nationwideclass no, it's not behaving at all....</td>\n",
       "    </tr>\n",
       "  </tbody>\n",
       "</table>\n",
       "</div>"
      ],
      "text/plain": [
       "   sentiment         ids                          date      flag  \\\n",
       "0          0  1467810369  Mon Apr 06 22:19:45 PDT 2009  NO_QUERY   \n",
       "1          0  1467810672  Mon Apr 06 22:19:49 PDT 2009  NO_QUERY   \n",
       "2          0  1467810917  Mon Apr 06 22:19:53 PDT 2009  NO_QUERY   \n",
       "3          0  1467811184  Mon Apr 06 22:19:57 PDT 2009  NO_QUERY   \n",
       "4          0  1467811193  Mon Apr 06 22:19:57 PDT 2009  NO_QUERY   \n",
       "\n",
       "              user                                               text  \n",
       "0  _TheSpecialOne_  @switchfoot http://twitpic.com/2y1zl - Awww, t...  \n",
       "1    scotthamilton  is upset that he can't update his Facebook by ...  \n",
       "2         mattycus  @Kenichan I dived many times for the ball. Man...  \n",
       "3          ElleCTF    my whole body feels itchy and like its on fire   \n",
       "4           Karoli  @nationwideclass no, it's not behaving at all....  "
      ]
     },
     "execution_count": 5,
     "metadata": {},
     "output_type": "execute_result"
    }
   ],
   "source": [
    "DATASET_COLUMNS  = [\"sentiment\", \"ids\", \"date\", \"flag\", \"user\", \"text\"]\n",
    "data = pd.read_csv('twitter-data.csv',encoding=\"latin1\",names=DATASET_COLUMNS)\n",
    "#df['sentiment'].replace([4, 0],[1, 0], inplace=True)\n",
    "data.head()"
   ]
  },
  {
   "cell_type": "code",
   "execution_count": 7,
   "id": "378a0abc",
   "metadata": {},
   "outputs": [
    {
     "data": {
      "text/plain": [
       "array([0, 4], dtype=int64)"
      ]
     },
     "execution_count": 7,
     "metadata": {},
     "output_type": "execute_result"
    }
   ],
   "source": [
    "data['sentiment'].unique()"
   ]
  },
  {
   "cell_type": "code",
   "execution_count": 8,
   "id": "65901e97",
   "metadata": {},
   "outputs": [
    {
     "data": {
      "text/plain": [
       "(1600000, 6)"
      ]
     },
     "execution_count": 8,
     "metadata": {},
     "output_type": "execute_result"
    }
   ],
   "source": [
    "data.shape"
   ]
  },
  {
   "cell_type": "code",
   "execution_count": 9,
   "id": "f5647774",
   "metadata": {},
   "outputs": [
    {
     "name": "stderr",
     "output_type": "stream",
     "text": [
      "C:\\Users\\PRASHANTH S\\anaconda3\\lib\\site-packages\\seaborn\\_decorators.py:36: FutureWarning: Pass the following variable as a keyword arg: x. From version 0.12, the only valid positional argument will be `data`, and passing other arguments without an explicit keyword will result in an error or misinterpretation.\n",
      "  warnings.warn(\n"
     ]
    },
    {
     "data": {
      "text/plain": [
       "<AxesSubplot:xlabel='sentiment', ylabel='count'>"
      ]
     },
     "execution_count": 9,
     "metadata": {},
     "output_type": "execute_result"
    },
    {
     "data": {
      "image/png": "[encoded data removed]",
      "text/plain": [
       "<Figure size 432x288 with 1 Axes>"
      ]
     },
     "metadata": {
      "needs_background": "light"
     },
     "output_type": "display_data"
    }
   ],
   "source": [
    "sns.countplot(data['sentiment'])"
   ]
  },
  {
   "cell_type": "code",
   "execution_count": 10,
   "id": "a15d8cc9",
   "metadata": {},
   "outputs": [
    {
     "data": {
      "text/plain": [
       "\"@switchfoot http://twitpic.com/2y1zl - Awww, that's a bummer.  You shoulda got David Carr of Third Day to do it. ;D\""
      ]
     },
     "execution_count": 10,
     "metadata": {},
     "output_type": "execute_result"
    }
   ],
   "source": [
    "tweets=np.array(data['text'])\n",
    "tweets[0]"
   ]
  },
  {
   "cell_type": "code",
   "execution_count": 11,
   "id": "3759d770",
   "metadata": {},
   "outputs": [],
   "source": [
    "import re\n",
    "def clean_text(text):\n",
    "  text = re.sub(r'#\\w*','',text) #removing hashtags\n",
    "  text = re.sub(r'@\\w*','',text) #removing minshions\n",
    "  text = re.sub(r'https?:\\S*','',text) #removing http/s links\n",
    "  text = re.sub(r'\\d*','',text) #removing numbers\n",
    "  text = re.sub(r'\\W+',' ',text) #removing non words like (- , :)\n",
    "  text = re.sub(r'_','',text) #removing underscore symbol\n",
    "  text = re.sub(r'\\s\\S$','',text) #removing single characters at the end of the sentenses\n",
    "  text = re.sub(r'^\\s','',text) #removing spaces at the begain of the sentences\n",
    "  text = re.sub(r'\\s$','',text) #removing spaces at the end of the sentences\n",
    "\n",
    "\n",
    "  return text\n"
   ]
  },
  {
   "cell_type": "code",
   "execution_count": 12,
   "id": "8323681d",
   "metadata": {},
   "outputs": [
    {
     "data": {
      "text/plain": [
       "'Awww that s a bummer You shoulda got David Carr of Third Day to do it'"
      ]
     },
     "execution_count": 12,
     "metadata": {},
     "output_type": "execute_result"
    }
   ],
   "source": [
    "clean_tweets = []\n",
    "for tweet in tweets:\n",
    "  clean_tweets.append(clean_text(tweet))\n",
    "clean_tweets[0]"
   ]
  },
  {
   "cell_type": "code",
   "execution_count": 13,
   "id": "a2f705bc",
   "metadata": {},
   "outputs": [
    {
     "data": {
      "text/plain": [
       "['Awww',\n",
       " 'that',\n",
       " 's',\n",
       " 'a',\n",
       " 'bummer',\n",
       " 'You',\n",
       " 'shoulda',\n",
       " 'got',\n",
       " 'David',\n",
       " 'Carr',\n",
       " 'of',\n",
       " 'Third',\n",
       " 'Day',\n",
       " 'to',\n",
       " 'do',\n",
       " 'it']"
      ]
     },
     "execution_count": 13,
     "metadata": {},
     "output_type": "execute_result"
    }
   ],
   "source": [
    "splitted_tweets = []\n",
    "for tweet in clean_tweets:\n",
    "  splitted_tweets.append(tweet.split())\n",
    "splitted_tweets[0]"
   ]
  },
  {
   "cell_type": "code",
   "execution_count": 14,
   "id": "f56ef82c",
   "metadata": {},
   "outputs": [
    {
     "name": "stderr",
     "output_type": "stream",
     "text": [
      "[nltk_data] Downloading package stopwords to C:\\Users\\PRASHANTH\n",
      "[nltk_data]     S\\AppData\\Roaming\\nltk_data...\n",
      "[nltk_data]   Package stopwords is already up-to-date!\n"
     ]
    },
    {
     "data": {
      "text/plain": [
       "['i', 'me', 'my', 'myself', 'we', 'our', 'ours', 'ourselves', 'you', \"you're\"]"
      ]
     },
     "execution_count": 14,
     "metadata": {},
     "output_type": "execute_result"
    }
   ],
   "source": [
    "from nltk.corpus import stopwords\n",
    "nltk.download('stopwords')\n",
    "stop_words = stopwords.words('english')\n",
    "#example\n",
    "stop_words[:10]"
   ]
  },
  {
   "cell_type": "code",
   "execution_count": 15,
   "id": "e9e86c7c",
   "metadata": {},
   "outputs": [
    {
     "data": {
      "text/plain": [
       "[['Awww', 'bummer', 'shoulda', 'got', 'David', 'Carr', 'Third', 'Day'],\n",
       " ['upset',\n",
       "  'update',\n",
       "  'Facebook',\n",
       "  'texting',\n",
       "  'might',\n",
       "  'cry',\n",
       "  'result',\n",
       "  'School',\n",
       "  'today',\n",
       "  'also',\n",
       "  'Blah'],\n",
       " ['dived', 'many', 'times', 'ball', 'Managed', 'save', 'rest', 'go', 'bounds'],\n",
       " ['whole', 'body', 'feels', 'itchy', 'like', 'fire'],\n",
       " ['behaving', 'mad', 'see']]"
      ]
     },
     "execution_count": 15,
     "metadata": {},
     "output_type": "execute_result"
    }
   ],
   "source": [
    "def remove_stopwords(words): \n",
    "  WORDS = []\n",
    "  for word in words:\n",
    "    if word.lower() not in stop_words and len(word)!=1:   ##check if the word is stop or not with making sure its small word \n",
    "      WORDS.append(word)\n",
    "  return WORDS\n",
    "cleaned_tweets = []\n",
    "for tweet in splitted_tweets:\n",
    "  cleaned_tweets.append(remove_stopwords(tweet))\n",
    "cleaned_tweets[:5]"
   ]
  },
  {
   "cell_type": "code",
   "execution_count": 16,
   "id": "96db5c3c",
   "metadata": {},
   "outputs": [],
   "source": [
    "for tweet in range(len(cleaned_tweets)):\n",
    "  for i in range(len(cleaned_tweets[tweet])):\n",
    "    cleaned_tweets[tweet][i] = cleaned_tweets[tweet][i].lower()"
   ]
  },
  {
   "cell_type": "code",
   "execution_count": 17,
   "id": "bbe84efe",
   "metadata": {},
   "outputs": [],
   "source": [
    "from nltk.stem.snowball import SnowballStemmer"
   ]
  },
  {
   "cell_type": "code",
   "execution_count": 18,
   "id": "b0e444fd",
   "metadata": {},
   "outputs": [
    {
     "data": {
      "text/plain": [
       "[[351, 1010, 2973, 11, 687, 7237, 1624, 3],\n",
       " [576, 215, 419, 345, 199, 229, 946, 74, 9, 184, 962],\n",
       " [3515, 221, 10, 806, 683, 495, 337, 1, 2630],\n",
       " [329, 627, 20, 2442, 6, 837],\n",
       " [3881, 444, 19]]"
      ]
     },
     "execution_count": 18,
     "metadata": {},
     "output_type": "execute_result"
    }
   ],
   "source": [
    "#stemming\n",
    "snow_stemmer = SnowballStemmer(language='english')\n",
    "for i in range(len(cleaned_tweets)):\n",
    "  for j in range(len(cleaned_tweets[i])):\n",
    "    cleaned_tweets[i][j] = snow_stemmer.stem(cleaned_tweets[i][j])\n",
    "from tensorflow.keras.preprocessing.text import Tokenizer\n",
    "from tensorflow.keras.preprocessing.sequence import pad_sequences\n",
    "tokenizer = Tokenizer()\n",
    "tokenizer.fit_on_texts(cleaned_tweets)\n",
    "tweets_squenced=tokenizer.texts_to_sequences(cleaned_tweets)\n",
    "tweets_squenced[:5]"
   ]
  },
  {
   "cell_type": "code",
   "execution_count": 19,
   "id": "e232ec15",
   "metadata": {},
   "outputs": [
    {
     "data": {
      "text/plain": [
       "array([[   0,    0,    0,    0,    0,    0,    0,    0,    0,    0,    0,\n",
       "           0,    0,    0,    0,    0,    0,    0,    0,    0,    0,    0,\n",
       "           0,    0,    0,    0,    0,    0,    0,    0,    0,    0,    0,\n",
       "           0,    0,    0,    0,    0,    0,    0,    0,    0,  351, 1010,\n",
       "        2973,   11,  687, 7237, 1624,    3],\n",
       "       [   0,    0,    0,    0,    0,    0,    0,    0,    0,    0,    0,\n",
       "           0,    0,    0,    0,    0,    0,    0,    0,    0,    0,    0,\n",
       "           0,    0,    0,    0,    0,    0,    0,    0,    0,    0,    0,\n",
       "           0,    0,    0,    0,    0,    0,  576,  215,  419,  345,  199,\n",
       "         229,  946,   74,    9,  184,  962]])"
      ]
     },
     "execution_count": 19,
     "metadata": {},
     "output_type": "execute_result"
    }
   ],
   "source": [
    "pad_seq_tweets=pad_sequences(tweets_squenced)\n",
    "pad_seq_tweets[:2]"
   ]
  },
  {
   "cell_type": "code",
   "execution_count": 20,
   "id": "a0f8d0f1",
   "metadata": {},
   "outputs": [],
   "source": [
    "target = data['sentiment']\n",
    "target = data['sentiment'].replace(4,1)"
   ]
  },
  {
   "cell_type": "code",
   "execution_count": 21,
   "id": "c780c476",
   "metadata": {},
   "outputs": [
    {
     "data": {
      "text/plain": [
       "array([0, 1], dtype=int64)"
      ]
     },
     "execution_count": 21,
     "metadata": {},
     "output_type": "execute_result"
    }
   ],
   "source": [
    "target.unique()"
   ]
  },
  {
   "cell_type": "code",
   "execution_count": 22,
   "id": "ff024dff",
   "metadata": {},
   "outputs": [
    {
     "data": {
      "text/plain": [
       "220989"
      ]
     },
     "execution_count": 22,
     "metadata": {},
     "output_type": "execute_result"
    }
   ],
   "source": [
    "#vocab size\n",
    "vocab_size = len(tokenizer.word_index)\n",
    "vocab_size"
   ]
  },
  {
   "cell_type": "code",
   "execution_count": 23,
   "id": "2b696cce",
   "metadata": {},
   "outputs": [
    {
     "name": "stdout",
     "output_type": "stream",
     "text": [
      "Model: \"sequential\"\n",
      "_________________________________________________________________\n",
      " Layer (type)                Output Shape              Param #   \n",
      "=================================================================\n",
      " embedding (Embedding)       (None, 50, 15)            3314850   \n",
      "                                                                 \n",
      " bidirectional (Bidirectiona  (None, 128)              40960     \n",
      " l)                                                              \n",
      "                                                                 \n",
      " dense (Dense)               (None, 1)                 129       \n",
      "                                                                 \n",
      "=================================================================\n",
      "Total params: 3,355,939\n",
      "Trainable params: 3,355,939\n",
      "Non-trainable params: 0\n",
      "_________________________________________________________________\n"
     ]
    }
   ],
   "source": [
    "from sklearn.model_selection import train_test_split\n",
    "trainX,testX,trainy,testy=train_test_split(pad_seq_tweets,target,test_size=0.1)\n",
    "from tensorflow.keras.models import Sequential\n",
    "from tensorflow.keras.layers import LSTM,Dense,Dropout,Embedding,Bidirectional\n",
    "model = Sequential()\n",
    "model.add(Embedding(vocab_size+1,15,input_length=50))\n",
    "\n",
    "model.add(Bidirectional(LSTM(units=64)))\n",
    "\n",
    "\n",
    "model.add(Dense(1,activation='sigmoid'))\n",
    "model.compile(loss=\"binary_crossentropy\",optimizer='RMSprop',metrics=['accuracy'])\n",
    "model.summary()"
   ]
  },
  {
   "cell_type": "code",
   "execution_count": 24,
   "id": "8751e6ab",
   "metadata": {},
   "outputs": [
    {
     "name": "stdout",
     "output_type": "stream",
     "text": [
      "Epoch 1/5\n",
      "1266/1266 [==============================] - 1066s 835ms/step - loss: 0.4938 - accuracy: 0.7616 - val_loss: 0.4685 - val_accuracy: 0.7755\n",
      "Epoch 2/5\n",
      "1266/1266 [==============================] - 981s 775ms/step - loss: 0.4594 - accuracy: 0.7817 - val_loss: 0.4640 - val_accuracy: 0.7791\n",
      "Epoch 3/5\n",
      "1266/1266 [==============================] - 960s 758ms/step - loss: 0.4497 - accuracy: 0.7879 - val_loss: 0.4576 - val_accuracy: 0.7828\n",
      "Epoch 4/5\n",
      "1266/1266 [==============================] - 769s 607ms/step - loss: 0.4423 - accuracy: 0.7928 - val_loss: 0.4559 - val_accuracy: 0.7841\n",
      "Epoch 5/5\n",
      "1266/1266 [==============================] - 563s 445ms/step - loss: 0.4361 - accuracy: 0.7968 - val_loss: 0.4578 - val_accuracy: 0.7840\n"
     ]
    }
   ],
   "source": [
    "import time\n",
    "start = time.time()\n",
    "history = model.fit(trainX,trainy,validation_split=0.1,batch_size=1024,verbose=1,epochs=5)\n",
    "end = time.time()"
   ]
  },
  {
   "cell_type": "code",
   "execution_count": 25,
   "id": "413fc322",
   "metadata": {},
   "outputs": [
    {
     "name": "stdout",
     "output_type": "stream",
     "text": [
      "72.34025427103043 Min\n"
     ]
    }
   ],
   "source": [
    "training_time = (end-start)/60\n",
    "print(str(training_time)+\" Min\")"
   ]
  },
  {
   "cell_type": "code",
   "execution_count": 26,
   "id": "290f39e0",
   "metadata": {},
   "outputs": [
    {
     "name": "stdout",
     "output_type": "stream",
     "text": [
      "5000/5000 [==============================] - 48s 8ms/step\n"
     ]
    },
    {
     "data": {
      "text/plain": [
       "array([[0.06120767],\n",
       "       [0.39828405],\n",
       "       [0.7589027 ],\n",
       "       ...,\n",
       "       [0.48287517],\n",
       "       [0.2070776 ],\n",
       "       [0.85082483]], dtype=float32)"
      ]
     },
     "execution_count": 26,
     "metadata": {},
     "output_type": "execute_result"
    }
   ],
   "source": [
    "predictions = model.predict(testX)\n",
    "predictions"
   ]
  },
  {
   "cell_type": "code",
   "execution_count": 27,
   "id": "43e9683d",
   "metadata": {},
   "outputs": [
    {
     "data": {
      "text/plain": [
       "0.78449375"
      ]
     },
     "execution_count": 27,
     "metadata": {},
     "output_type": "execute_result"
    }
   ],
   "source": [
    "Output = []\n",
    "for pred in predictions:\n",
    "  if pred >= 0.5:\n",
    "    Output.append(1)\n",
    "  else:\n",
    "    Output.append(0)\n",
    "from sklearn.metrics import accuracy_score\n",
    "accuracy_score(testy,Output)"
   ]
  },
  {
   "cell_type": "code",
   "execution_count": 28,
   "id": "f8892828",
   "metadata": {},
   "outputs": [
    {
     "data": {
      "text/plain": [
       "Text(0.5, 0, 'epochs')"
      ]
     },
     "execution_count": 28,
     "metadata": {},
     "output_type": "execute_result"
    },
    {
     "data": {
      "image/png": "[encoded data removed]",
      "text/plain": [
       "<Figure size 432x288 with 1 Axes>"
      ]
     },
     "metadata": {
      "needs_background": "light"
     },
     "output_type": "display_data"
    }
   ],
   "source": [
    "plt.plot(history.history['accuracy'])\n",
    "plt.plot(history.history['val_accuracy'])\n",
    "plt.legend(['training_accuracy','Val_accuracy'])\n",
    "plt.title('accuracy')\n",
    "plt.xlabel('epochs')"
   ]
  },
  {
   "cell_type": "code",
   "execution_count": 29,
   "id": "59b9bbb5",
   "metadata": {},
   "outputs": [
    {
     "data": {
      "text/plain": [
       "Text(0.5, 0, 'epochs')"
      ]
     },
     "execution_count": 29,
     "metadata": {},
     "output_type": "execute_result"
    },
    {
     "data": {
      "image/png": "[encoded data removed]",
      "text/plain": [
       "<Figure size 432x288 with 1 Axes>"
      ]
     },
     "metadata": {
      "needs_background": "light"
     },
     "output_type": "display_data"
    }
   ],
   "source": [
    "plt.plot(history.history['loss'])\n",
    "plt.plot(history.history['val_loss'])\n",
    "plt.legend(['training_Loss','Val_Loss'])\n",
    "plt.title('Loss')\n",
    "plt.xlabel('epochs')"
   ]
  },
  {
   "cell_type": "code",
   "execution_count": 29,
   "id": "da028e3a",
   "metadata": {},
   "outputs": [
    {
     "data": {
      "text/plain": [
       "[0.49090996384620667,\n",
       " 0.4582376182079315,\n",
       " 0.4488769769668579,\n",
       " 0.44254860281944275,\n",
       " 0.4367341697216034]"
      ]
     },
     "execution_count": 29,
     "metadata": {},
     "output_type": "execute_result"
    }
   ],
   "source": [
    "history.history['loss']"
   ]
  },
  {
   "cell_type": "code",
   "execution_count": 34,
   "id": "0ff8df74",
   "metadata": {},
   "outputs": [],
   "source": [
    "frame=pd.DataFrame(history.history['loss'])\n",
    "f=open('lstm-result.csv','w')\n",
    "frame.to_csv('lstm-result.csv')"
   ]
  },
  {
   "cell_type": "code",
   "execution_count": 35,
   "id": "e1353752",
   "metadata": {},
   "outputs": [],
   "source": [
    "fr=pd.read_csv('lstm-result.csv')\n",
    "fr['val_loss']=pd.DataFrame(history.history['val_loss'])\n",
    "fr.to_csv('lstm-result.csv')"
   ]
  },
  {
   "cell_type": "code",
   "execution_count": 36,
   "id": "9f923478",
   "metadata": {},
   "outputs": [],
   "source": [
    "fr['accuracy']=pd.DataFrame(history.history['accuracy'])\n",
    "fr['val_accuracy']=pd.DataFrame(history.history['val_accuracy'])\n",
    "fr.to_csv('lstm-result.csv')"
   ]
  },
  {
   "cell_type": "code",
   "execution_count": 37,
   "id": "a9474913",
   "metadata": {},
   "outputs": [],
   "source": [
    "f.close()"
   ]
  },
  {
   "cell_type": "code",
   "execution_count": null,
   "id": "285f1aa1",
   "metadata": {},
   "outputs": [],
   "source": []
  },
  {
   "cell_type": "code",
   "execution_count": null,
   "id": "f70a985b",
   "metadata": {},
   "outputs": [],
   "source": []
  },
  {
   "cell_type": "code",
   "execution_count": null,
   "id": "635bbd12",
   "metadata": {},
   "outputs": [],
   "source": []
  },
  {
   "cell_type": "code",
   "execution_count": null,
   "id": "dfe15e73",
   "metadata": {},
   "outputs": [],
   "source": []
  },
  {
   "cell_type": "code",
   "execution_count": null,
   "id": "9d6ab35a",
   "metadata": {},
   "outputs": [],
   "source": []
  }
 ],
 "metadata": {
  "kernelspec": {
   "display_name": "Python 3 (ipykernel)",
   "language": "python",
   "name": "python3"
  },
  "language_info": {
   "codemirror_mode": {
    "name": "ipython",
    "version": 3
   },
   "file_extension": ".py",
   "mimetype": "text/x-python",
   "name": "python",
   "nbconvert_exporter": "python",
   "pygments_lexer": "ipython3",
   "version": "3.9.7"
  }
 },
 "nbformat": 4,
 "nbformat_minor": 5
}
