{
 "cells": [
  {
   "cell_type": "code",
   "execution_count": 1,
   "id": "1e4b7841",
   "metadata": {},
   "outputs": [
    {
     "name": "stderr",
     "output_type": "stream",
     "text": [
      "C:\\Users\\user\\anaconda3\\envs\\env1\\lib\\site-packages\\tqdm\\auto.py:22: TqdmWarning: IProgress not found. Please update jupyter and ipywidgets. See https://ipywidgets.readthedocs.io/en/stable/user_install.html\n",
      "  from .autonotebook import tqdm as notebook_tqdm\n"
     ]
    }
   ],
   "source": [
    "import tensorflow as tf\n",
    "import tensorflow_hub as hub\n",
    "import pandas as pd\n",
    "from sklearn.model_selection import train_test_split\n",
    "import numpy as np\n",
    "import re\n",
    "import unicodedata\n",
    "import nltk\n",
    "from nltk.corpus import stopwords\n",
    "from tensorflow import keras\n",
    "from tensorflow.keras.layers import Dense,Dropout, Input\n",
    "from tqdm import tqdm\n",
    "import pickle\n",
    "from sklearn.metrics import confusion_matrix,f1_score,classification_report\n",
    "import matplotlib.pyplot as plt\n",
    "import itertools\n",
    "from sklearn.utils import shuffle\n",
    "from tensorflow.keras import regularizers\n",
    "from transformers import *\n",
    "from transformers import BertTokenizer, TFBertModel, BertConfig,TFDistilBertModel,DistilBertTokenizer,DistilBertConfig"
   ]
  },
  {
   "cell_type": "code",
   "execution_count": 3,
   "id": "13c349a4",
   "metadata": {},
   "outputs": [
    {
     "name": "stderr",
     "output_type": "stream",
     "text": [
      "[nltk_data] Downloading package stopwords to\n",
      "[nltk_data]     C:\\Users\\user\\AppData\\Roaming\\nltk_data...\n",
      "[nltk_data]   Package stopwords is already up-to-date!\n"
     ]
    },
    {
     "data": {
      "text/plain": [
       "True"
      ]
     },
     "execution_count": 3,
     "metadata": {},
     "output_type": "execute_result"
    }
   ],
   "source": [
    "import nltk\n",
    "nltk.download('stopwords')\n",
    "  "
   ]
  },
  {
   "cell_type": "code",
   "execution_count": 2,
   "id": "44f46877",
   "metadata": {},
   "outputs": [],
   "source": [
    "def unicode_to_ascii(s):\n",
    "    return ''.join(c for c in unicodedata.normalize('NFD', s) if unicodedata.category(c) != 'Mn')\n",
    "\n",
    "def clean_stopwords_shortwords(w):\n",
    "    stopwords_list=stopwords.words('english')\n",
    "    words = w.split() \n",
    "    clean_words = [word for word in words if (word not in stopwords_list) and len(word) > 2]\n",
    "    return \" \".join(clean_words) \n",
    "\n",
    "def preprocess_sentence(w):\n",
    "    w = unicode_to_ascii(w.lower().strip())\n",
    "    w = re.sub(r\"([?.!,¿])\", r\" \", w)\n",
    "    w = re.sub(r'[\" \"]+', \" \", w)\n",
    "    w = re.sub(r\"[^a-zA-Z?.!,¿]+\", \" \", w)\n",
    "    w=clean_stopwords_shortwords(w)\n",
    "    w=re.sub(r'@\\w+', '',w)\n",
    "    return w\n"
   ]
  },
  {
   "cell_type": "code",
   "execution_count": 4,
   "id": "84a05458",
   "metadata": {},
   "outputs": [
    {
     "data": {
      "text/plain": [
       "10076"
      ]
     },
     "execution_count": 4,
     "metadata": {},
     "output_type": "execute_result"
    }
   ],
   "source": [
    "data_file='Documents/TWITTERDS.csv'\n",
    "data=pd.read_csv(data_file,encoding='ISO-8859-1')\n",
    "len(data)\n"
   ]
  },
  {
   "cell_type": "code",
   "execution_count": 5,
   "id": "e7762b10",
   "metadata": {},
   "outputs": [
    {
     "name": "stdout",
     "output_type": "stream",
     "text": [
      "Available labels:  [0 1]\n"
     ]
    },
    {
     "data": {
      "text/html": [
       "<div>\n",
       "<style scoped>\n",
       "    .dataframe tbody tr th:only-of-type {\n",
       "        vertical-align: middle;\n",
       "    }\n",
       "\n",
       "    .dataframe tbody tr th {\n",
       "        vertical-align: top;\n",
       "    }\n",
       "\n",
       "    .dataframe thead th {\n",
       "        text-align: right;\n",
       "    }\n",
       "</style>\n",
       "<table border=\"1\" class=\"dataframe\">\n",
       "  <thead>\n",
       "    <tr style=\"text-align: right;\">\n",
       "      <th></th>\n",
       "      <th>TAR</th>\n",
       "      <th>ID</th>\n",
       "      <th>DATE</th>\n",
       "      <th>QUERY</th>\n",
       "      <th>NAME</th>\n",
       "      <th>DESCRIPTION</th>\n",
       "      <th>text</th>\n",
       "    </tr>\n",
       "  </thead>\n",
       "  <tbody>\n",
       "    <tr>\n",
       "      <th>0</th>\n",
       "      <td>0</td>\n",
       "      <td>1467810369</td>\n",
       "      <td>Mon Apr 06 22:19:45 PDT 2009</td>\n",
       "      <td>NO_QUERY</td>\n",
       "      <td>_TheSpecialOne_</td>\n",
       "      <td>@switchfoot http://twitpic.com/2y1zl - Awww, t...</td>\n",
       "      <td>switchfoot http twitpic com awww bummer should...</td>\n",
       "    </tr>\n",
       "    <tr>\n",
       "      <th>1</th>\n",
       "      <td>0</td>\n",
       "      <td>1467810672</td>\n",
       "      <td>Mon Apr 06 22:19:49 PDT 2009</td>\n",
       "      <td>NO_QUERY</td>\n",
       "      <td>scotthamilton</td>\n",
       "      <td>is upset that he can't update his Facebook by ...</td>\n",
       "      <td>upset update facebook texting might cry result...</td>\n",
       "    </tr>\n",
       "    <tr>\n",
       "      <th>2</th>\n",
       "      <td>0</td>\n",
       "      <td>1467810917</td>\n",
       "      <td>Mon Apr 06 22:19:53 PDT 2009</td>\n",
       "      <td>NO_QUERY</td>\n",
       "      <td>mattycus</td>\n",
       "      <td>@Kenichan I dived many times for the ball. Man...</td>\n",
       "      <td>kenichan dived many times ball managed save re...</td>\n",
       "    </tr>\n",
       "    <tr>\n",
       "      <th>3</th>\n",
       "      <td>0</td>\n",
       "      <td>1467811184</td>\n",
       "      <td>Mon Apr 06 22:19:57 PDT 2009</td>\n",
       "      <td>NO_QUERY</td>\n",
       "      <td>ElleCTF</td>\n",
       "      <td>my whole body feels itchy and like its on fire</td>\n",
       "      <td>whole body feels itchy like fire</td>\n",
       "    </tr>\n",
       "    <tr>\n",
       "      <th>4</th>\n",
       "      <td>0</td>\n",
       "      <td>1467811193</td>\n",
       "      <td>Mon Apr 06 22:19:57 PDT 2009</td>\n",
       "      <td>NO_QUERY</td>\n",
       "      <td>Karoli</td>\n",
       "      <td>@nationwideclass no, it's not behaving at all....</td>\n",
       "      <td>nationwideclass behaving mad see</td>\n",
       "    </tr>\n",
       "  </tbody>\n",
       "</table>\n",
       "</div>"
      ],
      "text/plain": [
       "   TAR          ID                          DATE     QUERY             NAME  \\\n",
       "0    0  1467810369  Mon Apr 06 22:19:45 PDT 2009  NO_QUERY  _TheSpecialOne_   \n",
       "1    0  1467810672  Mon Apr 06 22:19:49 PDT 2009  NO_QUERY    scotthamilton   \n",
       "2    0  1467810917  Mon Apr 06 22:19:53 PDT 2009  NO_QUERY         mattycus   \n",
       "3    0  1467811184  Mon Apr 06 22:19:57 PDT 2009  NO_QUERY          ElleCTF   \n",
       "4    0  1467811193  Mon Apr 06 22:19:57 PDT 2009  NO_QUERY           Karoli   \n",
       "\n",
       "                                         DESCRIPTION  \\\n",
       "0  @switchfoot http://twitpic.com/2y1zl - Awww, t...   \n",
       "1  is upset that he can't update his Facebook by ...   \n",
       "2  @Kenichan I dived many times for the ball. Man...   \n",
       "3    my whole body feels itchy and like its on fire    \n",
       "4  @nationwideclass no, it's not behaving at all....   \n",
       "\n",
       "                                                text  \n",
       "0  switchfoot http twitpic com awww bummer should...  \n",
       "1  upset update facebook texting might cry result...  \n",
       "2  kenichan dived many times ball managed save re...  \n",
       "3                   whole body feels itchy like fire  \n",
       "4                   nationwideclass behaving mad see  "
      ]
     },
     "execution_count": 5,
     "metadata": {},
     "output_type": "execute_result"
    }
   ],
   "source": [
    "print('Available labels: ',data.TAR.unique())\n",
    "data['text']=data['DESCRIPTION'].map(preprocess_sentence)\n",
    "\n",
    "num_classes=len(data.TAR.unique())\n",
    "\n",
    "data.head()"
   ]
  },
  {
   "cell_type": "code",
   "execution_count": 6,
   "id": "ac39161c",
   "metadata": {},
   "outputs": [
    {
     "data": {
      "text/plain": [
       "2"
      ]
     },
     "execution_count": 6,
     "metadata": {},
     "output_type": "execute_result"
    }
   ],
   "source": [
    "num_classes"
   ]
  },
  {
   "cell_type": "code",
   "execution_count": 7,
   "id": "943a60ea",
   "metadata": {},
   "outputs": [],
   "source": [
    "dbert_tokenizer = DistilBertTokenizer.from_pretrained('distilbert-base-uncased')   "
   ]
  },
  {
   "cell_type": "code",
   "execution_count": 8,
   "id": "afbb0853",
   "metadata": {},
   "outputs": [],
   "source": [
    "dbert_model = TFDistilBertModel.from_pretrained('distilbert-base-uncased')"
   ]
  },
  {
   "cell_type": "code",
   "execution_count": 9,
   "id": "efb10b24",
   "metadata": {},
   "outputs": [
    {
     "name": "stdout",
     "output_type": "stream",
     "text": [
      "0        switchfoot http twitpic com awww bummer should...\n",
      "1        upset update facebook texting might cry result...\n",
      "2        kenichan dived many times ball managed save re...\n",
      "3                         whole body feels itchy like fire\n",
      "4                         nationwideclass behaving mad see\n",
      "                               ...                        \n",
      "10071            iamdiddy working sunday hello philippines\n",
      "10072    johnmayerlyrics whats difference twitter page ...\n",
      "10073                think need akai headrush got one give\n",
      "10074    looks like marginal good thermals today gettin...\n",
      "10075    sammutimer saviour last one season unless cour...\n",
      "Name: text, Length: 10076, dtype: object\n"
     ]
    },
    {
     "data": {
      "text/plain": [
       "(10076, 10076)"
      ]
     },
     "execution_count": 9,
     "metadata": {},
     "output_type": "execute_result"
    }
   ],
   "source": [
    "max_len=32\n",
    "sentences=data['text']\n",
    "print(sentences)\n",
    "labels=data['TAR']\n",
    "len(sentences),len(labels)"
   ]
  },
  {
   "cell_type": "code",
   "execution_count": 10,
   "id": "c40092cb",
   "metadata": {},
   "outputs": [
    {
     "data": {
      "text/plain": [
       "['switch',\n",
       " '##foot',\n",
       " 'http',\n",
       " 't',\n",
       " '##wi',\n",
       " '##tp',\n",
       " '##ic',\n",
       " 'com',\n",
       " 'aw',\n",
       " '##w',\n",
       " '##w',\n",
       " 'bum',\n",
       " '##mer',\n",
       " 'should',\n",
       " '##a',\n",
       " 'got',\n",
       " 'david',\n",
       " 'carr',\n",
       " 'third',\n",
       " 'day']"
      ]
     },
     "execution_count": 10,
     "metadata": {},
     "output_type": "execute_result"
    }
   ],
   "source": [
    "dbert_tokenizer.tokenize(sentences[0])"
   ]
  },
  {
   "cell_type": "code",
   "execution_count": 11,
   "id": "ed709493",
   "metadata": {},
   "outputs": [
    {
     "data": {
      "text/plain": [
       "{'input_ids': [101, 6942, 13064, 8299, 1056, 9148, 25856, 2594, 4012, 22091, 2860, 2860, 26352, 5017, 2323, 2050, 2288, 2585, 12385, 102], 'attention_mask': [1, 1, 1, 1, 1, 1, 1, 1, 1, 1, 1, 1, 1, 1, 1, 1, 1, 1, 1, 1]}"
      ]
     },
     "execution_count": 11,
     "metadata": {},
     "output_type": "execute_result"
    }
   ],
   "source": [
    "dbert_inp=dbert_tokenizer.encode_plus(sentences[0],add_special_tokens = True,max_length =20,pad_to_max_length = True,truncation=True)\n",
    "dbert_inp"
   ]
  },
  {
   "cell_type": "code",
   "execution_count": 12,
   "id": "1bba9ac3",
   "metadata": {},
   "outputs": [
    {
     "data": {
      "text/plain": [
       "[101,\n",
       " 6942,\n",
       " 13064,\n",
       " 8299,\n",
       " 1056,\n",
       " 9148,\n",
       " 25856,\n",
       " 2594,\n",
       " 4012,\n",
       " 22091,\n",
       " 2860,\n",
       " 2860,\n",
       " 26352,\n",
       " 5017,\n",
       " 2323,\n",
       " 2050,\n",
       " 2288,\n",
       " 2585,\n",
       " 12385,\n",
       " 102]"
      ]
     },
     "execution_count": 12,
     "metadata": {},
     "output_type": "execute_result"
    }
   ],
   "source": [
    "dbert_inp['input_ids']"
   ]
  },
  {
   "cell_type": "code",
   "execution_count": 13,
   "id": "1da164bb",
   "metadata": {},
   "outputs": [
    {
     "data": {
      "text/plain": [
       "(tuple,\n",
       " (<tf.Tensor: shape=(1, 20, 768), dtype=float32, numpy=\n",
       "  array([[[ 0.01274627, -0.07876229, -0.15836816, ..., -0.10738077,\n",
       "            0.35887986,  0.42442632],\n",
       "          [ 0.22567368, -0.3502166 ,  0.3199818 , ...,  0.07449917,\n",
       "            0.55056846, -0.18079731],\n",
       "          [ 0.21035773,  0.16083698,  0.00888642, ...,  0.15392008,\n",
       "            0.02060527,  0.01076494],\n",
       "          ...,\n",
       "          [ 0.04942653,  0.12789088,  0.21721028, ..., -0.37591136,\n",
       "            0.09543035, -0.08466615],\n",
       "          [ 0.0212442 ,  0.00257167,  0.0693761 , ..., -0.18621549,\n",
       "           -0.17315246,  0.02489012],\n",
       "          [ 0.98219776,  0.2841664 , -0.39852607, ..., -0.02572096,\n",
       "           -0.36131865, -0.17120071]]], dtype=float32)>,))"
      ]
     },
     "execution_count": 13,
     "metadata": {},
     "output_type": "execute_result"
    }
   ],
   "source": [
    "id_inp=np.asarray(dbert_inp['input_ids'])\n",
    "mask_inp=np.asarray(dbert_inp['attention_mask'])\n",
    "out=dbert_model([id_inp.reshape(1,-1),mask_inp.reshape(1,-1)])\n",
    "type(out),out"
   ]
  },
  {
   "cell_type": "code",
   "execution_count": 14,
   "id": "189d1e27",
   "metadata": {},
   "outputs": [
    {
     "data": {
      "text/plain": [
       "<tf.Tensor: shape=(1, 768), dtype=float32, numpy=\n",
       "array([[ 1.27462726e-02, -7.87622929e-02, -1.58368155e-01,\n",
       "        -1.28659427e-01, -1.97247729e-01, -1.68835819e-01,\n",
       "         3.88083041e-01,  4.46289718e-01, -1.92302316e-01,\n",
       "        -1.34538710e-01,  1.54768839e-01, -1.87388524e-01,\n",
       "        -9.57167894e-02,  2.19261020e-01, -8.07700679e-02,\n",
       "         1.70546710e-01, -3.33832204e-01,  2.25277394e-01,\n",
       "         1.36261553e-01, -4.15344909e-02,  2.60007620e-01,\n",
       "        -1.72635004e-01, -2.99528427e-02, -2.39733353e-01,\n",
       "        -8.55646431e-02,  5.08861281e-02, -1.23486415e-01,\n",
       "        -1.57683849e-01, -3.45814787e-02,  3.88169326e-02,\n",
       "         1.46441117e-01,  8.02083984e-02,  1.36188000e-01,\n",
       "        -2.96066284e-01,  8.79974663e-02, -1.78958308e-02,\n",
       "         1.85671076e-01, -9.04827565e-03,  2.90242583e-01,\n",
       "         2.34690994e-01, -1.61147237e-01, -6.57327473e-05,\n",
       "         1.28944188e-01, -6.62079826e-03,  8.98613036e-02,\n",
       "        -8.81270319e-02, -2.52564907e+00,  2.04021662e-01,\n",
       "        -1.80089831e-01, -3.51220846e-01,  3.07583719e-01,\n",
       "        -1.20414175e-01, -7.02158287e-02,  1.40752628e-01,\n",
       "         2.14845955e-01,  5.24782777e-01,  1.56544536e-01,\n",
       "         3.95095795e-02,  8.24277848e-02,  2.84851789e-01,\n",
       "         6.26848936e-02,  8.63271952e-02, -1.02391221e-01,\n",
       "        -1.17569372e-01, -1.56913579e-01, -1.66023761e-01,\n",
       "        -1.63842320e-01,  6.70348585e-01, -4.52752322e-01,\n",
       "         3.95726532e-01, -7.17928708e-02, -2.36541390e-01,\n",
       "         2.55548179e-01, -3.17369998e-02,  1.45625725e-01,\n",
       "        -9.23260599e-02,  1.44277558e-01,  4.18938041e-01,\n",
       "        -3.81012559e-02, -9.35008451e-02,  8.31837580e-03,\n",
       "         1.85209274e-01,  3.34442914e-01,  3.08846712e-01,\n",
       "         1.37496799e-01,  1.80389985e-01, -3.14363241e-01,\n",
       "        -1.08640760e-01,  1.44377142e-01,  5.23230791e-01,\n",
       "        -1.71374545e-01, -2.51416802e-01, -1.11065865e-01,\n",
       "         3.03369045e-01,  5.04238546e-01, -1.98095083e-01,\n",
       "        -1.42804801e-01, -5.20611107e-02,  9.90058184e-02,\n",
       "         2.62333602e-01,  2.40104884e-01,  8.88986886e-02,\n",
       "         1.24286354e-01, -3.79063219e-01,  3.49553749e-02,\n",
       "        -8.63172188e-02, -4.89937142e-02, -2.29827851e-01,\n",
       "         5.70102669e-02, -2.22943211e+00,  5.15049160e-01,\n",
       "         4.88148987e-01, -8.20917785e-02, -4.22481030e-01,\n",
       "        -3.90796587e-02,  2.59687245e-01,  2.07654670e-01,\n",
       "        -1.13628596e-01,  1.99909464e-01,  2.83239126e-01,\n",
       "         1.02496147e-01,  3.47114027e-01, -1.43866390e-01,\n",
       "        -1.67951867e-01,  2.63579190e-01,  2.82940209e-01,\n",
       "         5.27398735e-02, -9.05533955e-02,  3.90730023e-01,\n",
       "         3.02850276e-01,  3.39022309e-01,  4.80055600e-01,\n",
       "        -9.19594765e-02, -2.20760524e-01, -1.73407316e-01,\n",
       "         3.00485730e-01,  3.88323665e-01, -3.30373421e-02,\n",
       "        -1.00272313e-01,  7.48329908e-02, -3.00951332e-01,\n",
       "        -4.37211432e-03, -2.61645794e+00,  3.24920237e-01,\n",
       "         6.47751093e-01,  2.69819885e-01, -1.56275526e-01,\n",
       "         1.70340389e-03, -1.19602755e-01,  1.43192038e-01,\n",
       "         2.13690400e-02, -6.84936568e-02, -9.56132710e-02,\n",
       "         4.68596183e-02, -2.55615443e-01,  3.22163224e-01,\n",
       "        -8.40193406e-02, -2.08979011e-01,  2.53026068e-01,\n",
       "         3.18817139e-01,  1.50388852e-01, -3.29214558e-02,\n",
       "         1.52594037e-03, -6.03259578e-02, -2.11524293e-02,\n",
       "         9.64664966e-02,  1.55395120e-01,  1.73409134e-02,\n",
       "        -4.92270626e-02, -6.30019903e-02,  4.12061177e-02,\n",
       "         1.93071198e-02,  6.64327800e-01, -2.60042667e-01,\n",
       "         2.92513251e-01,  1.11641660e-01,  1.40557751e-01,\n",
       "         6.88188896e-02, -1.49875879e-01,  1.43658042e-01,\n",
       "        -2.32431322e-01,  1.91704929e-01,  1.99011117e-01,\n",
       "         1.91434458e-01,  9.99071375e-02, -3.62035409e-02,\n",
       "         1.04204521e-01, -2.36071289e-01,  2.33203560e-01,\n",
       "         3.89379382e-01, -2.18965977e-01, -3.05525810e-01,\n",
       "        -5.00389673e-02,  1.86680108e-01,  2.03830391e-01,\n",
       "         9.89861935e-02, -2.30916217e-02, -4.41807330e-01,\n",
       "         1.93964317e-01, -1.17608614e-01, -2.82004178e-01,\n",
       "        -2.19132364e-01,  1.99517936e-01,  5.11904433e-02,\n",
       "        -3.61979991e-01,  3.51850700e+00, -7.66266882e-03,\n",
       "         1.67277247e-01,  1.65072922e-02,  3.38999629e-01,\n",
       "        -3.96388676e-03,  1.79030389e-01, -1.53095573e-01,\n",
       "        -1.09354004e-01, -1.03068382e-01,  6.62323162e-02,\n",
       "         4.12971169e-01, -1.43713728e-01, -6.33758754e-02,\n",
       "        -7.83637445e-03,  5.99384196e-02,  1.47248730e-01,\n",
       "         5.27124815e-02,  1.99421495e-01, -5.30369841e-02,\n",
       "         4.89751250e-01, -2.61281580e-02,  1.85489237e-01,\n",
       "         2.49976769e-01, -1.07501626e+00,  1.61170632e-01,\n",
       "        -5.68961091e-02, -2.16467790e-02,  2.36374617e-01,\n",
       "        -2.03770101e-01,  6.06513061e-02,  6.62454516e-02,\n",
       "        -2.25362003e-01,  2.38416582e-01,  9.44460928e-02,\n",
       "        -1.89584643e-01,  2.09016204e-01,  3.66050601e-01,\n",
       "         1.14533380e-01, -2.07202375e-01,  9.86794829e-02,\n",
       "         3.54681462e-02, -1.12591848e-01,  2.39725038e-01,\n",
       "        -2.05891013e-01,  3.40579331e-01, -7.69859403e-02,\n",
       "        -6.80106878e-02, -3.99164170e-01,  5.00001572e-02,\n",
       "         2.63249278e-02,  1.45681813e-01, -1.14444736e-02,\n",
       "        -4.56124723e-01, -1.78650230e-01, -9.24288258e-02,\n",
       "         9.83413160e-02,  1.25765041e-01,  1.65114813e-02,\n",
       "        -4.14909780e-01, -5.83966225e-02, -1.45429403e-01,\n",
       "        -1.41784176e-01,  3.11343700e-01, -5.60203865e-02,\n",
       "        -1.60852954e-01,  1.57685429e-02, -2.46261165e-01,\n",
       "        -3.03005075e+00,  6.88235685e-02,  6.22932892e-03,\n",
       "         3.38902354e-01,  1.83956221e-01,  1.76066920e-01,\n",
       "        -2.01502681e-01, -1.52775913e-01,  3.30216169e-01,\n",
       "        -3.47941607e-01,  3.20081234e-01,  5.68927899e-02,\n",
       "         1.33915067e-01, -5.52731007e-03, -3.15338135e-01,\n",
       "         2.18126237e-01,  6.72373921e-02, -3.93365361e-02,\n",
       "         1.09214187e-02, -1.88243881e-01,  2.36579567e-01,\n",
       "         4.11943913e-01, -1.81538969e-01,  2.95821190e-01,\n",
       "        -3.37498784e-02,  2.04737857e-03, -2.53024220e-01,\n",
       "        -4.30850029e-01,  1.43668503e-01,  4.49632667e-03,\n",
       "        -1.65271774e-01,  3.53120640e-03,  6.65428117e-02,\n",
       "        -1.22548416e-01, -3.85349303e-01, -3.29040742e+00,\n",
       "         1.31947137e-02,  7.80053511e-02, -3.57280612e-01,\n",
       "         3.08296949e-01, -2.26926446e-01,  2.10714519e-01,\n",
       "        -2.03594357e-01, -2.21070111e-01,  1.01067066e-01,\n",
       "         1.17136814e-01, -1.20955139e-01,  2.27824241e-01,\n",
       "        -1.26840919e-01,  2.66286284e-01,  2.91961610e-01,\n",
       "         2.57340908e-01, -4.53409776e-02,  1.12256616e-01,\n",
       "        -2.03788206e-02, -1.86385438e-01,  1.57298550e-01,\n",
       "         1.11613259e-01, -1.21107057e-01,  1.72344357e-01,\n",
       "         3.23877811e-01, -4.09358621e-01, -1.61088914e-01,\n",
       "        -1.68444559e-01, -2.52866745e-01,  8.11744034e-02,\n",
       "        -7.76360855e-02, -1.21200725e-01,  1.93078369e-02,\n",
       "        -3.07007819e-01, -2.08608449e-01,  9.43703577e-02,\n",
       "         4.66880798e-02,  1.62751615e-01,  1.59012467e-01,\n",
       "        -9.05917585e-02,  3.55025947e-01,  3.01020890e-02,\n",
       "        -8.67187083e-02,  8.27354491e-01,  1.60455368e-02,\n",
       "         1.07870176e-01, -9.40040275e-02, -1.65548176e-02,\n",
       "        -1.03270505e-02, -8.50937515e-02, -1.90973938e-01,\n",
       "         1.11538422e+00, -1.16529018e-01,  2.15100527e-01,\n",
       "        -2.72339940e-01,  3.42445731e-01,  2.99067676e-01,\n",
       "        -2.93601483e-01, -1.26982301e-01,  7.60739863e-01,\n",
       "         5.77491336e-03,  2.02368289e-01, -1.34876594e-01,\n",
       "         5.85812554e-02, -3.76760274e-01,  2.60056764e-01,\n",
       "        -3.03551465e-01,  1.25496104e-01, -2.79664323e-02,\n",
       "        -3.29491168e-01,  2.88527727e-01, -7.89139867e-02,\n",
       "        -1.06610167e+00, -3.10677290e-02,  4.14481536e-02,\n",
       "        -1.15963370e-01,  2.70826489e-01, -1.63181365e-01,\n",
       "         3.43833379e-02, -1.96813747e-01,  2.34266534e-01,\n",
       "        -3.14967632e-01,  1.20145947e-01, -3.66037995e-01,\n",
       "        -2.76175261e-01, -2.90709198e-01, -1.39806330e-01,\n",
       "        -4.47919726e-01,  1.19375288e-01, -3.60052943e-01,\n",
       "         7.02007115e-03,  1.56379357e-01,  1.17312178e-01,\n",
       "         1.70686722e-01,  7.02672005e-02,  4.44380134e-01,\n",
       "        -7.31104016e-01, -3.30737457e-02, -6.86815977e-02,\n",
       "         2.73427308e-01, -1.10450141e-01,  1.40883550e-01,\n",
       "        -3.88438761e-01, -2.15854242e-01, -5.97025603e-02,\n",
       "        -3.62610906e-01,  2.90147960e-01, -1.29737750e-01,\n",
       "         9.55408439e-02, -1.88805461e-01, -5.40836416e-02,\n",
       "        -1.25602618e-01,  9.36584920e-02,  6.04976356e-01,\n",
       "        -2.78487742e-01, -5.12617715e-02,  3.49418193e-01,\n",
       "         5.41135743e-02,  2.15850980e-03,  1.55691594e-01,\n",
       "         1.71056092e-02,  1.36027128e-01, -5.22681139e-02,\n",
       "        -1.33449227e-01, -2.08662450e-02,  7.26337507e-02,\n",
       "        -2.03273967e-01, -1.51152402e-01, -4.51934598e-02,\n",
       "        -2.84268633e-02, -1.78697318e-01, -3.01057100e-01,\n",
       "        -6.42444015e-01, -1.11813322e-01, -4.19858158e-01,\n",
       "         3.45064513e-02,  9.37957689e-02,  5.53384185e-01,\n",
       "         5.13001196e-02,  1.66197076e-01,  5.26108071e-02,\n",
       "         1.94905568e-02,  4.46398884e-01,  5.51811010e-02,\n",
       "         4.29021925e-01,  2.71557003e-01,  9.92575362e-02,\n",
       "        -1.49715215e-01,  3.72533828e-01, -3.85963142e-01,\n",
       "        -1.10492378e-01,  5.87983727e-02, -4.29940999e-01,\n",
       "         3.98529172e-01,  1.59227014e-01, -1.26705661e-01,\n",
       "         6.92300647e-02, -7.29785562e-02, -1.31511435e-01,\n",
       "         4.31782678e-02, -7.84983113e-02, -1.34290671e+00,\n",
       "         4.17490602e-01,  8.24450701e-02, -1.18372828e-01,\n",
       "         2.16613770e-01, -6.72372058e-04, -3.24373901e-01,\n",
       "         1.15183368e-01,  3.50108668e-02,  2.09233269e-01,\n",
       "        -2.19811052e-01, -1.64458260e-01, -1.79713011e-01,\n",
       "         3.20379525e-01,  5.82163818e-02, -6.30676299e-02,\n",
       "        -2.19981000e-02,  1.95714951e-01, -1.28895700e-01,\n",
       "         2.06297755e-01, -8.82319286e-02,  3.70009869e-01,\n",
       "         1.70432121e-01, -2.30840668e-01, -4.51862253e-02,\n",
       "         3.50414123e-03,  6.43400401e-02,  3.99618447e-01,\n",
       "        -2.78473105e-02,  2.24714145e-01,  1.15474388e-01,\n",
       "        -2.66800493e-01, -5.48885822e-01, -2.24312544e-01,\n",
       "         4.06952322e-01,  1.55241042e-02,  8.98750350e-02,\n",
       "        -1.90645128e-01,  9.41394791e-02,  2.25400448e-01,\n",
       "        -4.25749630e-01,  4.11125392e-01,  1.69894904e-01,\n",
       "         4.82871160e-02,  5.52032530e-01,  1.12581283e-01,\n",
       "        -1.25192739e-02,  1.33734062e-01,  2.27895156e-01,\n",
       "        -3.56492698e-01, -1.10232458e-03, -4.40628752e-02,\n",
       "         1.41774416e-01, -3.19163889e-01,  9.54937469e-03,\n",
       "        -1.07373958e-02, -1.27542540e-01, -7.31871873e-02,\n",
       "        -4.49701160e-01, -1.27488106e-01,  3.17159325e-01,\n",
       "        -1.37531668e-01, -2.44516313e-01,  3.13750535e-01,\n",
       "        -3.01364928e-01, -5.04252911e-01, -1.75958604e-01,\n",
       "        -2.39867158e-02,  9.40012708e-02, -3.75298336e-02,\n",
       "         3.30296546e-01,  2.51304626e-01, -1.89314440e-01,\n",
       "         6.06741458e-02, -2.93496668e-01,  3.27217281e-01,\n",
       "         1.16206795e-01,  1.42878219e-02,  1.73803657e-01,\n",
       "        -1.77453622e-01,  2.35743552e-01, -5.77657878e-01,\n",
       "        -1.43582046e-01,  1.20799914e-01, -2.16245741e-01,\n",
       "         3.44689161e-01, -8.43863785e-02, -6.76312894e-02,\n",
       "         2.37789929e-01,  6.05736151e-02, -3.16912413e-01,\n",
       "        -4.87869561e-01, -7.88674876e-02,  3.63921374e-03,\n",
       "         6.19928241e-02, -1.81294218e-01, -1.03544019e-01,\n",
       "        -8.05509277e-03, -9.53560472e-02,  1.32358506e-01,\n",
       "         1.09992363e-01,  3.13983649e-01,  3.58833708e-02,\n",
       "         1.93068117e-01,  1.65003493e-01,  3.69563848e-02,\n",
       "         6.68875724e-02, -4.28215027e-01, -2.75934786e-01,\n",
       "         1.62205338e-01,  6.87895119e-02, -7.82961398e-03,\n",
       "        -1.90846592e-01,  1.07028089e-01,  2.58642994e-02,\n",
       "        -4.33978170e-01, -2.80516088e-01, -8.58344436e-02,\n",
       "         1.52872765e+00,  3.83875996e-01, -1.30259752e-01,\n",
       "        -6.38006330e-02,  4.90599990e-01, -2.52491552e-02,\n",
       "        -3.75519507e-03,  1.27388716e-01, -1.47172049e-01,\n",
       "         3.75735581e-01, -9.66696814e-02,  2.77930766e-01,\n",
       "        -1.74489617e-01,  3.21832418e-01,  2.85319090e-01,\n",
       "         2.44973212e-01, -1.50178671e-01, -4.53012347e-01,\n",
       "        -3.93836856e-01, -4.39484082e-02, -3.29021692e-01,\n",
       "         7.25152344e-02,  5.36352873e-01,  1.78465426e-01,\n",
       "        -4.94298972e-02,  1.40104532e-01, -1.00819618e-01,\n",
       "        -3.50597411e-01,  2.79515654e-01,  1.86649680e-01,\n",
       "        -1.85693890e-01,  6.97002262e-02,  2.22899005e-01,\n",
       "         4.10468102e-01, -1.38939783e-01,  4.53799963e-04,\n",
       "        -3.54404002e-03, -2.80411512e-01, -3.08798105e-01,\n",
       "         8.50597322e-02,  3.40183079e-02, -3.05988222e-01,\n",
       "         4.29949462e-01,  1.25554621e-01,  2.10230201e-01,\n",
       "         3.73208642e-01, -2.58237034e-01, -3.53767097e-01,\n",
       "         4.06522125e-01,  1.11944482e-01, -1.07839420e-01,\n",
       "        -8.37257504e-02, -2.11175203e-01,  1.46312237e-01,\n",
       "         2.72336714e-02, -1.77350476e-01,  7.24487752e-03,\n",
       "         2.65384447e-02,  5.20053431e-02,  2.45744064e-01,\n",
       "        -1.79950610e-01,  2.96179771e-01,  1.94412231e-01,\n",
       "        -1.19709708e-02,  2.63881505e-01,  1.28212020e-01,\n",
       "        -2.93888211e-01,  2.35692397e-01,  3.05966794e-01,\n",
       "        -5.91780916e-02, -3.39703076e-03,  3.52769822e-01,\n",
       "         1.65193737e-01, -4.18930799e-02,  8.35137069e-02,\n",
       "         4.56604399e-02,  3.29232991e-01,  5.66851161e-02,\n",
       "        -2.85735339e-01, -2.49262285e+00,  2.91506976e-01,\n",
       "        -9.59217101e-02, -1.81558743e-01, -1.29375324e-01,\n",
       "         3.63550305e-01,  1.57919601e-01, -1.54245451e-01,\n",
       "         4.43322808e-02, -2.23405540e-01,  1.23149887e-01,\n",
       "         4.12989974e-01,  3.56053591e-01,  1.31404489e-01,\n",
       "         2.08677232e-01, -8.18149373e-02,  1.54669315e-01,\n",
       "        -1.93196312e-02, -2.27641165e-01, -3.22871745e-01,\n",
       "         1.05684705e-01,  2.10388958e-01, -1.56252086e-01,\n",
       "        -4.35610503e-01, -1.84694022e-01,  1.87581107e-01,\n",
       "        -2.45590642e-01, -4.07091171e-01,  1.31042778e-01,\n",
       "         6.82646930e-02, -3.23449254e-01,  1.30435303e-01,\n",
       "        -7.57725388e-02, -4.47951183e-02, -4.71728891e-02,\n",
       "        -2.91831553e-01, -3.38238060e-01,  1.22949407e-01,\n",
       "         4.26693149e-02,  1.41717657e-01, -2.96566412e-02,\n",
       "         4.68222588e-01, -4.35941890e-02, -1.57859139e-02,\n",
       "         2.76967566e-02,  9.93151218e-02,  2.82676697e-01,\n",
       "        -1.10870428e-01,  2.01271415e-01, -2.48847567e-02,\n",
       "         2.06545264e-01, -2.98356265e-02,  2.39567280e-01,\n",
       "        -2.81906337e-01,  3.32830280e-01,  7.20890090e-02,\n",
       "         3.98837700e-02,  1.57876298e-01, -1.54923439e-01,\n",
       "        -3.92117113e-01,  1.06041215e-01, -5.75752333e-02,\n",
       "         2.75644064e-02,  1.04240417e-01,  2.55429447e-01,\n",
       "        -4.09841165e-02, -3.57769057e-02, -1.26398861e-01,\n",
       "         8.43292326e-02, -2.26651475e-01, -1.50807112e-01,\n",
       "        -1.75231636e-01,  1.38842165e-01,  1.69107363e-01,\n",
       "        -9.76453125e-02, -9.48709548e-02,  2.17917800e-01,\n",
       "         3.62627387e-01,  2.27343515e-01,  2.48572662e-01,\n",
       "         9.84718204e-02, -2.84154773e-01, -7.53573552e-02,\n",
       "        -1.05364203e-01,  2.07313672e-01, -6.38217735e+00,\n",
       "        -2.20354795e-01,  4.98109572e-02, -5.61395027e-02,\n",
       "        -4.25864935e-01, -3.40369582e-01, -3.36414576e-03,\n",
       "        -1.64973766e-01, -8.98403600e-02, -1.85720071e-01,\n",
       "         3.50656122e-01,  3.33044641e-02, -9.35429335e-02,\n",
       "        -1.07380770e-01,  3.58879864e-01,  4.24426317e-01]], dtype=float32)>"
      ]
     },
     "execution_count": 14,
     "metadata": {},
     "output_type": "execute_result"
    }
   ],
   "source": [
    "out[0][:,0,:]"
   ]
  },
  {
   "cell_type": "code",
   "execution_count": 15,
   "id": "7a9264da",
   "metadata": {},
   "outputs": [
    {
     "data": {
      "text/plain": [
       "'[CLS] switchfoot http twitpic com awww bummer shoulda got david carr [SEP]'"
      ]
     },
     "execution_count": 15,
     "metadata": {},
     "output_type": "execute_result"
    }
   ],
   "source": [
    "dbert_tokenizer.decode(dbert_inp['input_ids'])"
   ]
  },
  {
   "cell_type": "code",
   "execution_count": 16,
   "id": "6aa18b48",
   "metadata": {},
   "outputs": [],
   "source": [
    "def create_model():\n",
    "    inps = Input(shape = (max_len,), dtype='int64')\n",
    "    masks= Input(shape = (max_len,), dtype='int64')\n",
    "    dbert_layer = dbert_model(inps, attention_mask=masks)[0][:,0,:]\n",
    "    dense = Dense(512,activation='relu',kernel_regularizer=regularizers.l2(0.01))(dbert_layer)\n",
    "    dropout= Dropout(0.5)(dense)\n",
    "    pred = Dense(2, activation='softmax',kernel_regularizer=regularizers.l2(0.01))(dropout)\n",
    "    model = tf.keras.Model(inputs=[inps,masks], outputs=pred)\n",
    "    print(model.summary())\n",
    "    return model   "
   ]
  },
  {
   "cell_type": "code",
   "execution_count": 17,
   "id": "e25e6fc6",
   "metadata": {},
   "outputs": [
    {
     "name": "stdout",
     "output_type": "stream",
     "text": [
      "WARNING:tensorflow:AutoGraph could not transform <bound method TFDistilBertModel.call of <transformers.modeling_tf_distilbert.TFDistilBertModel object at 0x0000018B979492C8>> and will run it as-is.\n",
      "Please report this to the TensorFlow team. When filing the bug, set the verbosity to 10 (on Linux, `export AUTOGRAPH_VERBOSITY=10`) and attach the full output.\n",
      "Cause: 'arguments' object has no attribute 'posonlyargs'\n",
      "To silence this warning, decorate the function with @tf.autograph.experimental.do_not_convert\n",
      "WARNING: AutoGraph could not transform <bound method TFDistilBertModel.call of <transformers.modeling_tf_distilbert.TFDistilBertModel object at 0x0000018B979492C8>> and will run it as-is.\n",
      "Please report this to the TensorFlow team. When filing the bug, set the verbosity to 10 (on Linux, `export AUTOGRAPH_VERBOSITY=10`) and attach the full output.\n",
      "Cause: 'arguments' object has no attribute 'posonlyargs'\n",
      "To silence this warning, decorate the function with @tf.autograph.experimental.do_not_convert\n",
      "WARNING:tensorflow:AutoGraph could not transform <bound method TFDistilBertMainLayer.call of <transformers.modeling_tf_distilbert.TFDistilBertMainLayer object at 0x0000018B9C5BD248>> and will run it as-is.\n",
      "Please report this to the TensorFlow team. When filing the bug, set the verbosity to 10 (on Linux, `export AUTOGRAPH_VERBOSITY=10`) and attach the full output.\n",
      "Cause: module 'gast' has no attribute 'Constant'\n",
      "To silence this warning, decorate the function with @tf.autograph.experimental.do_not_convert\n",
      "WARNING: AutoGraph could not transform <bound method TFDistilBertMainLayer.call of <transformers.modeling_tf_distilbert.TFDistilBertMainLayer object at 0x0000018B9C5BD248>> and will run it as-is.\n",
      "Please report this to the TensorFlow team. When filing the bug, set the verbosity to 10 (on Linux, `export AUTOGRAPH_VERBOSITY=10`) and attach the full output.\n",
      "Cause: module 'gast' has no attribute 'Constant'\n",
      "To silence this warning, decorate the function with @tf.autograph.experimental.do_not_convert\n",
      "WARNING:tensorflow:AutoGraph could not transform <bound method TFEmbeddings.call of <transformers.modeling_tf_distilbert.TFEmbeddings object at 0x0000018B88B787C8>> and will run it as-is.\n",
      "Please report this to the TensorFlow team. When filing the bug, set the verbosity to 10 (on Linux, `export AUTOGRAPH_VERBOSITY=10`) and attach the full output.\n",
      "Cause: 'arguments' object has no attribute 'posonlyargs'\n",
      "To silence this warning, decorate the function with @tf.autograph.experimental.do_not_convert\n",
      "WARNING: AutoGraph could not transform <bound method TFEmbeddings.call of <transformers.modeling_tf_distilbert.TFEmbeddings object at 0x0000018B88B787C8>> and will run it as-is.\n",
      "Please report this to the TensorFlow team. When filing the bug, set the verbosity to 10 (on Linux, `export AUTOGRAPH_VERBOSITY=10`) and attach the full output.\n",
      "Cause: 'arguments' object has no attribute 'posonlyargs'\n",
      "To silence this warning, decorate the function with @tf.autograph.experimental.do_not_convert\n",
      "WARNING:tensorflow:AutoGraph could not transform <bound method TFTransformer.call of <transformers.modeling_tf_distilbert.TFTransformer object at 0x0000018B9C0F4B48>> and will run it as-is.\n",
      "Please report this to the TensorFlow team. When filing the bug, set the verbosity to 10 (on Linux, `export AUTOGRAPH_VERBOSITY=10`) and attach the full output.\n",
      "Cause: module 'gast' has no attribute 'Constant'\n",
      "To silence this warning, decorate the function with @tf.autograph.experimental.do_not_convert\n",
      "WARNING: AutoGraph could not transform <bound method TFTransformer.call of <transformers.modeling_tf_distilbert.TFTransformer object at 0x0000018B9C0F4B48>> and will run it as-is.\n",
      "Please report this to the TensorFlow team. When filing the bug, set the verbosity to 10 (on Linux, `export AUTOGRAPH_VERBOSITY=10`) and attach the full output.\n",
      "Cause: module 'gast' has no attribute 'Constant'\n",
      "To silence this warning, decorate the function with @tf.autograph.experimental.do_not_convert\n",
      "WARNING:tensorflow:AutoGraph could not transform <bound method TFTransformerBlock.call of <transformers.modeling_tf_distilbert.TFTransformerBlock object at 0x0000018B979FCE48>> and will run it as-is.\n",
      "Please report this to the TensorFlow team. When filing the bug, set the verbosity to 10 (on Linux, `export AUTOGRAPH_VERBOSITY=10`) and attach the full output.\n",
      "Cause: module 'gast' has no attribute 'Constant'\n",
      "To silence this warning, decorate the function with @tf.autograph.experimental.do_not_convert\n",
      "WARNING: AutoGraph could not transform <bound method TFTransformerBlock.call of <transformers.modeling_tf_distilbert.TFTransformerBlock object at 0x0000018B979FCE48>> and will run it as-is.\n",
      "Please report this to the TensorFlow team. When filing the bug, set the verbosity to 10 (on Linux, `export AUTOGRAPH_VERBOSITY=10`) and attach the full output.\n",
      "Cause: module 'gast' has no attribute 'Constant'\n",
      "To silence this warning, decorate the function with @tf.autograph.experimental.do_not_convert\n",
      "WARNING:tensorflow:AutoGraph could not transform <bound method TFMultiHeadSelfAttention.call of <transformers.modeling_tf_distilbert.TFMultiHeadSelfAttention object at 0x0000018B9C32E488>> and will run it as-is.\n",
      "Please report this to the TensorFlow team. When filing the bug, set the verbosity to 10 (on Linux, `export AUTOGRAPH_VERBOSITY=10`) and attach the full output.\n",
      "Cause: module 'gast' has no attribute 'Constant'\n",
      "To silence this warning, decorate the function with @tf.autograph.experimental.do_not_convert\n",
      "WARNING: AutoGraph could not transform <bound method TFMultiHeadSelfAttention.call of <transformers.modeling_tf_distilbert.TFMultiHeadSelfAttention object at 0x0000018B9C32E488>> and will run it as-is.\n",
      "Please report this to the TensorFlow team. When filing the bug, set the verbosity to 10 (on Linux, `export AUTOGRAPH_VERBOSITY=10`) and attach the full output.\n",
      "Cause: module 'gast' has no attribute 'Constant'\n",
      "To silence this warning, decorate the function with @tf.autograph.experimental.do_not_convert\n",
      "WARNING:tensorflow:AutoGraph could not transform <bound method TFFFN.call of <transformers.modeling_tf_distilbert.TFFFN object at 0x0000018B9C878108>> and will run it as-is.\n",
      "Please report this to the TensorFlow team. When filing the bug, set the verbosity to 10 (on Linux, `export AUTOGRAPH_VERBOSITY=10`) and attach the full output.\n",
      "Cause: 'arguments' object has no attribute 'posonlyargs'\n",
      "To silence this warning, decorate the function with @tf.autograph.experimental.do_not_convert\n",
      "WARNING: AutoGraph could not transform <bound method TFFFN.call of <transformers.modeling_tf_distilbert.TFFFN object at 0x0000018B9C878108>> and will run it as-is.\n",
      "Please report this to the TensorFlow team. When filing the bug, set the verbosity to 10 (on Linux, `export AUTOGRAPH_VERBOSITY=10`) and attach the full output.\n",
      "Cause: 'arguments' object has no attribute 'posonlyargs'\n",
      "To silence this warning, decorate the function with @tf.autograph.experimental.do_not_convert\n",
      "Model: \"model\"\n",
      "__________________________________________________________________________________________________\n",
      " Layer (type)                   Output Shape         Param #     Connected to                     \n",
      "==================================================================================================\n",
      " input_1 (InputLayer)           [(None, 32)]         0           []                               \n",
      "                                                                                                  \n",
      " input_2 (InputLayer)           [(None, 32)]         0           []                               \n",
      "                                                                                                  \n",
      " tf_distil_bert_model (TFDistil  ((None, 32, 768),   66362880    ['input_1[0][0]',                \n",
      " BertModel)                     )                                 'input_2[0][0]']                \n",
      "                                                                                                  \n",
      " tf.__operators__.getitem (Slic  (None, 768)         0           ['tf_distil_bert_model[0][0]']   \n",
      " ingOpLambda)                                                                                     \n",
      "                                                                                                  \n"
     ]
    },
    {
     "name": "stdout",
     "output_type": "stream",
     "text": [
      " dense (Dense)                  (None, 512)          393728      ['tf.__operators__.getitem[0][0]'\n",
      "                                                                 ]                                \n",
      "                                                                                                  \n",
      " dropout_19 (Dropout)           (None, 512)          0           ['dense[0][0]']                  \n",
      "                                                                                                  \n",
      " dense_1 (Dense)                (None, 2)            1026        ['dropout_19[0][0]']             \n",
      "                                                                                                  \n",
      "==================================================================================================\n",
      "Total params: 66,757,634\n",
      "Trainable params: 66,757,634\n",
      "Non-trainable params: 0\n",
      "__________________________________________________________________________________________________\n",
      "None\n"
     ]
    }
   ],
   "source": [
    "model=create_model()"
   ]
  },
  {
   "cell_type": "code",
   "execution_count": 18,
   "id": "843523a3",
   "metadata": {},
   "outputs": [],
   "source": [
    "input_ids=[]\n",
    "attention_masks=[]\n",
    "\n",
    "for sent in sentences:\n",
    "    dbert_inps=dbert_tokenizer.encode_plus(sent,add_special_tokens = True,max_length =max_len,pad_to_max_length = True,return_attention_mask = True,truncation=True)\n",
    "    input_ids.append(dbert_inps['input_ids'])\n",
    "    attention_masks.append(dbert_inps['attention_mask'])\n",
    "\n",
    "input_ids=np.asarray(input_ids)\n",
    "attention_masks=np.array(attention_masks)\n",
    "labels=np.array(labels)"
   ]
  },
  {
   "cell_type": "code",
   "execution_count": 19,
   "id": "d6d5fb79",
   "metadata": {},
   "outputs": [
    {
     "data": {
      "text/plain": [
       "(10076, 10076, 10076)"
      ]
     },
     "execution_count": 19,
     "metadata": {},
     "output_type": "execute_result"
    }
   ],
   "source": [
    "len(input_ids),len(attention_masks),len(labels)"
   ]
  },
  {
   "cell_type": "code",
   "execution_count": 20,
   "id": "58595d00",
   "metadata": {},
   "outputs": [
    {
     "name": "stdout",
     "output_type": "stream",
     "text": [
      "Preparing the pickle file.....\n",
      "Pickle files saved as  ./dbert_inp.pkl ./dbert_mask.pkl ./dbert_label.pkl\n"
     ]
    }
   ],
   "source": [
    "print('Preparing the pickle file.....')\n",
    "\n",
    "pickle_inp_path='./dbert_inp.pkl'\n",
    "pickle_mask_path='./dbert_mask.pkl'\n",
    "pickle_label_path='./dbert_label.pkl'\n",
    "\n",
    "pickle.dump((input_ids),open(pickle_inp_path,'wb'))\n",
    "pickle.dump((attention_masks),open(pickle_mask_path,'wb'))\n",
    "pickle.dump((labels),open(pickle_label_path,'wb'))\n",
    "\n",
    "\n",
    "print('Pickle files saved as ',pickle_inp_path,pickle_mask_path,pickle_label_path)"
   ]
  },
  {
   "cell_type": "code",
   "execution_count": 21,
   "id": "0d8a5b47",
   "metadata": {},
   "outputs": [
    {
     "name": "stdout",
     "output_type": "stream",
     "text": [
      "Loading the saved pickle files..\n",
      "(10076, 32)\n",
      "(10076, 32)\n"
     ]
    }
   ],
   "source": [
    "print('Loading the saved pickle files..')\n",
    "\n",
    "input_ids=pickle.load(open(pickle_inp_path, 'rb'))\n",
    "attention_masks=pickle.load(open(pickle_mask_path, 'rb'))\n",
    "labels=pickle.load(open(pickle_label_path, 'rb'))\n",
    "print(input_ids.shape)\n",
    "print(attention_masks.shape)\n",
    "#print('Input shape {} Attention mask shape {} Input label shape {}'.format(input_ids.shape,attention_masks.shape))\n"
   ]
  },
  {
   "cell_type": "code",
   "execution_count": 22,
   "id": "a1808758",
   "metadata": {},
   "outputs": [
    {
     "name": "stdout",
     "output_type": "stream",
     "text": [
      "Train inp shape (8060, 32) Val input shape (2016, 32)\n",
      "Train label shape (8060,) Val label shape (2016,)\n",
      "Train attention mask shape (8060, 32) Val attention mask shape (2016, 32)\n"
     ]
    }
   ],
   "source": [
    "train_inp,val_inp,train_label,val_label,train_mask,val_mask=train_test_split(input_ids,labels,attention_masks,test_size=0.2)\n",
    "\n",
    "print('Train inp shape {} Val input shape {}\\nTrain label shape {} Val label shape {}\\nTrain attention mask shape {} Val attention mask shape {}'.format(train_inp.shape,val_inp.shape,train_label.shape,val_label.shape,train_mask.shape,val_mask.shape))\n",
    "\n",
    "\n",
    "log_dir='dbert_model'\n",
    "model_save_path='./dbert_model.h5'\n",
    "\n",
    "callbacks = [tf.keras.callbacks.ModelCheckpoint(filepath=model_save_path,save_weights_only=True,monitor='val_loss',mode='min',save_best_only=True),keras.callbacks.TensorBoard(log_dir=log_dir)]\n",
    "\n",
    "loss = tf.keras.losses.SparseCategoricalCrossentropy(from_logits=True)\n",
    "metric = tf.keras.metrics.SparseCategoricalAccuracy('accuracy')\n",
    "optimizer = tf.keras.optimizers.Adam(learning_rate=3e-5)\n",
    "\n",
    "model.compile(loss=loss,optimizer=optimizer, metrics=[metric])\n",
    "\n"
   ]
  },
  {
   "cell_type": "code",
   "execution_count": 23,
   "id": "321ec32e",
   "metadata": {},
   "outputs": [],
   "source": [
    "callbacks= [tf.keras.callbacks.ModelCheckpoint(filepath=model_save_path,save_weights_only=True,monitor='val_loss',mode='min',save_best_only=True),keras.callbacks.TensorBoard(log_dir=log_dir)]\n",
    "model.compile(loss=loss,optimizer=optimizer, metrics=[metric])"
   ]
  },
  {
   "cell_type": "code",
   "execution_count": 24,
   "id": "0c335708",
   "metadata": {},
   "outputs": [
    {
     "name": "stdout",
     "output_type": "stream",
     "text": [
      "Epoch 1/5\n",
      "WARNING:tensorflow:AutoGraph could not transform <function Model.make_train_function.<locals>.train_function at 0x0000018B9FC57798> and will run it as-is.\n",
      "Please report this to the TensorFlow team. When filing the bug, set the verbosity to 10 (on Linux, `export AUTOGRAPH_VERBOSITY=10`) and attach the full output.\n",
      "Cause: 'arguments' object has no attribute 'posonlyargs'\n",
      "To silence this warning, decorate the function with @tf.autograph.experimental.do_not_convert\n",
      "WARNING: AutoGraph could not transform <function Model.make_train_function.<locals>.train_function at 0x0000018B9FC57798> and will run it as-is.\n",
      "Please report this to the TensorFlow team. When filing the bug, set the verbosity to 10 (on Linux, `export AUTOGRAPH_VERBOSITY=10`) and attach the full output.\n",
      "Cause: 'arguments' object has no attribute 'posonlyargs'\n",
      "To silence this warning, decorate the function with @tf.autograph.experimental.do_not_convert\n"
     ]
    },
    {
     "name": "stderr",
     "output_type": "stream",
     "text": [
      "C:\\Users\\user\\anaconda3\\envs\\env1\\lib\\site-packages\\tensorflow\\python\\util\\dispatch.py:1082: UserWarning: \"`sparse_categorical_crossentropy` received `from_logits=True`, but the `output` argument was produced by a sigmoid or softmax activation and thus does not represent logits. Was this intended?\"\n",
      "  return dispatch_target(*args, **kwargs)\n"
     ]
    },
    {
     "name": "stdout",
     "output_type": "stream",
     "text": [
      "6/6 [==============================] - ETA: 0s - loss: 6.8636 - accuracy: 0.5476  WARNING:tensorflow:AutoGraph could not transform <function Model.make_test_function.<locals>.test_function at 0x0000018BA2477A68> and will run it as-is.\n",
      "Please report this to the TensorFlow team. When filing the bug, set the verbosity to 10 (on Linux, `export AUTOGRAPH_VERBOSITY=10`) and attach the full output.\n",
      "Cause: 'arguments' object has no attribute 'posonlyargs'\n",
      "To silence this warning, decorate the function with @tf.autograph.experimental.do_not_convert\n",
      "WARNING: AutoGraph could not transform <function Model.make_test_function.<locals>.test_function at 0x0000018BA2477A68> and will run it as-is.\n",
      "Please report this to the TensorFlow team. When filing the bug, set the verbosity to 10 (on Linux, `export AUTOGRAPH_VERBOSITY=10`) and attach the full output.\n",
      "Cause: 'arguments' object has no attribute 'posonlyargs'\n",
      "To silence this warning, decorate the function with @tf.autograph.experimental.do_not_convert\n",
      "6/6 [==============================] - 1481s 252s/step - loss: 6.8636 - accuracy: 0.5476 - val_loss: 6.7708 - val_accuracy: 0.6429\n",
      "Epoch 2/5\n",
      "6/6 [==============================] - 1672s 274s/step - loss: 6.7518 - accuracy: 0.6383 - val_loss: 6.6842 - val_accuracy: 0.6736\n",
      "Epoch 3/5\n",
      "6/6 [==============================] - 1742s 284s/step - loss: 6.6553 - accuracy: 0.6900 - val_loss: 6.5906 - val_accuracy: 0.7257\n",
      "Epoch 4/5\n",
      "6/6 [==============================] - 1609s 264s/step - loss: 6.5493 - accuracy: 0.7445 - val_loss: 6.5259 - val_accuracy: 0.7470\n",
      "Epoch 5/5\n",
      "6/6 [==============================] - 1644s 266s/step - loss: 6.4592 - accuracy: 0.7733 - val_loss: 6.4894 - val_accuracy: 0.7445\n"
     ]
    }
   ],
   "source": [
    "history=model.fit([train_inp,train_mask],train_label,batch_size=1500,epochs=5,validation_data=([val_inp,val_mask],val_label),callbacks=callbacks)"
   ]
  },
  {
   "cell_type": "code",
   "execution_count": 25,
   "id": "aa275c74",
   "metadata": {},
   "outputs": [
    {
     "name": "stdout",
     "output_type": "stream",
     "text": [
      "Model: \"model_1\"\n",
      "__________________________________________________________________________________________________\n",
      " Layer (type)                   Output Shape         Param #     Connected to                     \n",
      "==================================================================================================\n",
      " input_3 (InputLayer)           [(None, 32)]         0           []                               \n",
      "                                                                                                  \n",
      " input_4 (InputLayer)           [(None, 32)]         0           []                               \n",
      "                                                                                                  \n",
      " tf_distil_bert_model (TFDistil  ((None, 32, 768),   66362880    ['input_3[0][0]',                \n",
      " BertModel)                     )                                 'input_4[0][0]']                \n",
      "                                                                                                  \n",
      " tf.__operators__.getitem_1 (Sl  (None, 768)         0           ['tf_distil_bert_model[1][0]']   \n",
      " icingOpLambda)                                                                                   \n",
      "                                                                                                  \n",
      " dense_2 (Dense)                (None, 512)          393728      ['tf.__operators__.getitem_1[0][0\n",
      "                                                                 ]']                              \n",
      "                                                                                                  \n",
      " dropout_20 (Dropout)           (None, 512)          0           ['dense_2[0][0]']                \n",
      "                                                                                                  \n",
      " dense_3 (Dense)                (None, 2)            1026        ['dropout_20[0][0]']             \n",
      "                                                                                                  \n",
      "==================================================================================================\n",
      "Total params: 66,757,634\n",
      "Trainable params: 66,757,634\n",
      "Non-trainable params: 0\n",
      "__________________________________________________________________________________________________\n",
      "None\n"
     ]
    }
   ],
   "source": [
    "trained_model = create_model()\n",
    "trained_model.compile(loss=loss,optimizer=optimizer, metrics=[metric])\n",
    "trained_model.load_weights(model_save_path)"
   ]
  },
  {
   "cell_type": "code",
   "execution_count": 26,
   "id": "860c6532",
   "metadata": {},
   "outputs": [
    {
     "name": "stdout",
     "output_type": "stream",
     "text": [
      "WARNING:tensorflow:AutoGraph could not transform <function Model.make_predict_function.<locals>.predict_function at 0x0000018B9D4DB0D8> and will run it as-is.\n",
      "Please report this to the TensorFlow team. When filing the bug, set the verbosity to 10 (on Linux, `export AUTOGRAPH_VERBOSITY=10`) and attach the full output.\n",
      "Cause: 'arguments' object has no attribute 'posonlyargs'\n",
      "To silence this warning, decorate the function with @tf.autograph.experimental.do_not_convert\n",
      "WARNING: AutoGraph could not transform <function Model.make_predict_function.<locals>.predict_function at 0x0000018B9D4DB0D8> and will run it as-is.\n",
      "Please report this to the TensorFlow team. When filing the bug, set the verbosity to 10 (on Linux, `export AUTOGRAPH_VERBOSITY=10`) and attach the full output.\n",
      "Cause: 'arguments' object has no attribute 'posonlyargs'\n",
      "To silence this warning, decorate the function with @tf.autograph.experimental.do_not_convert\n",
      "2/2 [==============================] - 41s 11s/step\n"
     ]
    },
    {
     "data": {
      "text/plain": [
       "0.7265002655337227"
      ]
     },
     "execution_count": 26,
     "metadata": {},
     "output_type": "execute_result"
    }
   ],
   "source": [
    "preds = trained_model.predict([val_inp,val_mask],batch_size=1500)\n",
    "pred_labels = preds.argmax(axis=1)\n",
    "f1 = f1_score(val_label,pred_labels)\n",
    "f1"
   ]
  },
  {
   "cell_type": "code",
   "execution_count": 27,
   "id": "456798e8",
   "metadata": {},
   "outputs": [
    {
     "name": "stdout",
     "output_type": "stream",
     "text": [
      "F1 score 0.7265002655337227\n",
      "Classification Report\n",
      "              precision    recall  f1-score   support\n",
      "\n",
      "    negative       0.70      0.83      0.76       979\n",
      "    positive       0.81      0.66      0.73      1037\n",
      "\n",
      "    accuracy                           0.74      2016\n",
      "   macro avg       0.75      0.75      0.74      2016\n",
      "weighted avg       0.75      0.74      0.74      2016\n",
      "\n",
      "63/63 [==============================] - 45s 719ms/step - loss: 6.4893 - accuracy: 0.7445\n",
      "Accuracy: 74.45%\n",
      "Training and saving built model.....\n",
      "              precision    recall  f1-score   support\n",
      "\n",
      "           0       0.70      0.83      0.76       979\n",
      "           1       0.81      0.66      0.73      1037\n",
      "\n",
      "    accuracy                           0.74      2016\n",
      "   macro avg       0.75      0.75      0.74      2016\n",
      "weighted avg       0.75      0.74      0.74      2016\n",
      "\n"
     ]
    },
    {
     "data": {
      "text/html": [
       "<div>\n",
       "<style scoped>\n",
       "    .dataframe tbody tr th:only-of-type {\n",
       "        vertical-align: middle;\n",
       "    }\n",
       "\n",
       "    .dataframe tbody tr th {\n",
       "        vertical-align: top;\n",
       "    }\n",
       "\n",
       "    .dataframe thead th {\n",
       "        text-align: right;\n",
       "    }\n",
       "</style>\n",
       "<table border=\"1\" class=\"dataframe\">\n",
       "  <thead>\n",
       "    <tr style=\"text-align: right;\">\n",
       "      <th></th>\n",
       "      <th>negative</th>\n",
       "      <th>positive</th>\n",
       "    </tr>\n",
       "  </thead>\n",
       "  <tbody>\n",
       "    <tr>\n",
       "      <th>negative</th>\n",
       "      <td>817</td>\n",
       "      <td>162</td>\n",
       "    </tr>\n",
       "    <tr>\n",
       "      <th>positive</th>\n",
       "      <td>353</td>\n",
       "      <td>684</td>\n",
       "    </tr>\n",
       "  </tbody>\n",
       "</table>\n",
       "</div>"
      ],
      "text/plain": [
       "          negative  positive\n",
       "negative       817       162\n",
       "positive       353       684"
      ]
     },
     "execution_count": 27,
     "metadata": {},
     "output_type": "execute_result"
    }
   ],
   "source": [
    "target_names=['negative','positive']\n",
    "print('F1 score',f1)\n",
    "print('Classification Report')\n",
    "print(classification_report(val_label,pred_labels,target_names=target_names))\n",
    "scores = model.evaluate([val_inp,val_mask],val_label, verbose=1)\n",
    "print(\"Accuracy: %.2f%%\" % (scores[1]*100))\n",
    "print('Training and saving built model.....')   \n",
    "from sklearn.metrics import confusion_matrix, classification_report\n",
    "labels = ['negative','positive']\n",
    "print(classification_report(val_label, pred_labels))\n",
    "pd.DataFrame(confusion_matrix(val_label, pred_labels), index=labels, columns=labels)"
   ]
  }
 ],
 "metadata": {
  "kernelspec": {
   "display_name": "Python 3 (ipykernel)",
   "language": "python",
   "name": "python3"
  },
  "language_info": {
   "codemirror_mode": {
    "name": "ipython",
    "version": 3
   },
   "file_extension": ".py",
   "mimetype": "text/x-python",
   "name": "python",
   "nbconvert_exporter": "python",
   "pygments_lexer": "ipython3",
   "version": "3.7.12"
  }
 },
 "nbformat": 4,
 "nbformat_minor": 5
}
